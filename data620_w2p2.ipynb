{
 "cells": [
  {
   "cell_type": "code",
   "execution_count": null,
   "id": "72f4d308-2bf9-41b9-b0e7-cbc9bf4617d9",
   "metadata": {
    "tags": []
   },
   "outputs": [],
   "source": [
    "# **Week 2 Part 2 - Assignment Centrality Measures**\n",
    "\n",
    "## **The Data**\n",
    "The data set we have found for this assignment is the [Social circles: Facebook](https://snap.stanford.edu/data/ego-Facebook.html) from Stanford.The categorical feature that we will be focusing on for this dataset is the gender of the node.\n",
    "The data is comprised of 10 different Facebook networks and comes in 50 files, 5 files for each network. The files for each network are listed here:\n",
    "1.\tCircles\n",
    "2.\tEdges\n",
    "3.\tEgo Features\n",
    "4.\tFeatures\n",
    "5.\tFeature Names\n",
    "The most important files for our purposes will be Edges, Ego Features, and Features since these contain direct information about our nodes and edges.\n",
    "For each node, there is a plethora of features including birthday, education, gender, hometown, occupation and much more.\n",
    "\n",
    "## **Process**\n",
    "In order to read in the dataset, we would need to first extract the nodes from the features file and combine this with our ego to have a full list of nodes.\n",
    "We will then need to create a zero-weight edge-list. The edges file from the dataset is already formatted as a zero-weighted edge-list. However, if we are purely using the data in python, it might be advantageous to convert the edges text file to an adjacency list after importing it to our program (though networkx is perfectly happy with an edge-list).\n",
    "\n",
    "## **Prediction**\n",
    "An interesting prediction we could attempt to make using degree centrality would be if men or women are more influential. If we are using degree centrality to determine influence within groups, we could compare the degree centrality for different networks of men and women. If we noticed that one of those genders tended to have a higher degree centrality, we could – at least in theory – make the prediction that this gender is more influential within the Facebook ecosystem."
   ]
  }
 ],
 "metadata": {
  "kernelspec": {
   "display_name": "Python 3",
   "language": "python",
   "name": "python3"
  },
  "language_info": {
   "codemirror_mode": {
    "name": "ipython",
    "version": 3
   },
   "file_extension": ".py",
   "mimetype": "text/x-python",
   "name": "python",
   "nbconvert_exporter": "python",
   "pygments_lexer": "ipython3",
   "version": "3.7.10"
  }
 },
 "nbformat": 4,
 "nbformat_minor": 5
}
