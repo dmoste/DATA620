{
 "cells": [
  {
   "cell_type": "markdown",
   "id": "e9696931-d418-4a6d-aaa9-b12b3141850c",
   "metadata": {},
   "source": [
    "**Homework 1 - Hello, Graph World**\n",
    "\n",
    "When software developers are starting to work in a new environment, they are encouraged to start with a simple “beachhead” program.\n",
    "In this assignment, you’re asked to create the nodes and edges for a basic graph, such as the Krackhardt kite shown below. (You’re welcome to substitute data of your own choosing)."
   ]
  },
  {
   "cell_type": "code",
   "execution_count": 1,
   "id": "9700a694-4a0e-4ce0-a656-fdfb75e7275a",
   "metadata": {},
   "outputs": [
    {
     "name": "stderr",
     "output_type": "stream",
     "text": [
      "\n",
      "Bad key \"text.kerning_factor\" on line 4 in\n",
      "C:\\Users\\nycdoe\\anaconda3\\envs\\DATA620\\lib\\site-packages\\matplotlib\\mpl-data\\stylelib\\_classic_test_patch.mplstyle.\n",
      "You probably need to get an updated matplotlibrc file from\n",
      "http://github.com/matplotlib/matplotlib/blob/master/matplotlibrc.template\n",
      "or from the matplotlib source distribution\n"
     ]
    }
   ],
   "source": [
    "import networkx as net\n",
    "import matplotlib.pyplot as plt\n",
    "import warnings"
   ]
  },
  {
   "cell_type": "code",
   "execution_count": 2,
   "id": "767053cf-7760-4a39-abc0-f50cccd2d604",
   "metadata": {},
   "outputs": [],
   "source": [
    "# create the nodes and edges\n",
    "nodes = {0:\"David\",\n",
    "         1:\"Amanda\",\n",
    "         2:\"Olena\",\n",
    "         3:\"Adrianna\",\n",
    "         4:\"Hope\",\n",
    "         5:\"Ariana\"}\n",
    "\n",
    "edges = [(0,1),(0,2),(0,4),(0,5),\n",
    "        (1,2),(1,4),(1,5),\n",
    "        (2,3),(2,4),(2,5),\n",
    "        (3,4),\n",
    "        (4,5)]"
   ]
  },
  {
   "cell_type": "code",
   "execution_count": 3,
   "id": "b68fdb79-f4e4-442b-9e5c-19c6a11220fb",
   "metadata": {},
   "outputs": [],
   "source": [
    "# setup the graph\n",
    "G = net.Graph()\n",
    "G.add_edges_from(edges)\n",
    "G = net.relabel_nodes(G, nodes)"
   ]
  },
  {
   "cell_type": "code",
   "execution_count": 5,
   "id": "839775da-5167-4547-a27f-e8bc0bd09823",
   "metadata": {},
   "outputs": [
    {
     "data": {
      "image/png": "[encoded data removed]",
      "text/plain": [
       "<Figure size 432x288 with 1 Axes>"
      ]
     },
     "metadata": {},
     "output_type": "display_data"
    }
   ],
   "source": [
    "# draw the chart\n",
    "warnings.filterwarnings('ignore')\n",
    "net.draw_shell(G, with_labels=True)"
   ]
  },
  {
   "cell_type": "code",
   "execution_count": null,
   "id": "d6c21556-28ed-4a01-b39d-a3e7bafcc4ef",
   "metadata": {},
   "outputs": [],
   "source": []
  }
 ],
 "metadata": {
  "kernelspec": {
   "display_name": "Python 3",
   "language": "python",
   "name": "python3"
  },
  "language_info": {
   "codemirror_mode": {
    "name": "ipython",
    "version": 3
   },
   "file_extension": ".py",
   "mimetype": "text/x-python",
   "name": "python",
   "nbconvert_exporter": "python",
   "pygments_lexer": "ipython3",
   "version": "3.7.10"
  }
 },
 "nbformat": 4,
 "nbformat_minor": 5
}
